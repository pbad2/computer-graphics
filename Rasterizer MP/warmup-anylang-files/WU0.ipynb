{
 "cells": [
  {
   "cell_type": "code",
   "execution_count": 182,
   "metadata": {},
   "outputs": [],
   "source": [
    "import pandas as pd\n",
    "from PIL import Image \n",
    "import sys"
   ]
  },
  {
   "cell_type": "code",
   "execution_count": 185,
   "metadata": {},
   "outputs": [
    {
     "ename": "FileNotFoundError",
     "evalue": "[Errno 2] No such file or directory: '--ip=127.0.0.1'",
     "output_type": "error",
     "traceback": [
      "\u001b[0;31m---------------------------------------------------------------------------\u001b[0m",
      "\u001b[0;31mFileNotFoundError\u001b[0m                         Traceback (most recent call last)",
      "\u001b[0;32m<ipython-input-185-464633e7fc10>\u001b[0m in \u001b[0;36m<module>\u001b[0;34m\u001b[0m\n\u001b[1;32m      5\u001b[0m \u001b[0;34m\u001b[0m\u001b[0m\n\u001b[1;32m      6\u001b[0m \u001b[0minput_filename\u001b[0m \u001b[0;34m=\u001b[0m \u001b[0msys\u001b[0m\u001b[0;34m.\u001b[0m\u001b[0margv\u001b[0m\u001b[0;34m[\u001b[0m\u001b[0;36m1\u001b[0m\u001b[0;34m]\u001b[0m\u001b[0;34m\u001b[0m\u001b[0;34m\u001b[0m\u001b[0m\n\u001b[0;32m----> 7\u001b[0;31m \u001b[0mmy_file\u001b[0m \u001b[0;34m=\u001b[0m \u001b[0mopen\u001b[0m\u001b[0;34m(\u001b[0m\u001b[0minput_filename\u001b[0m\u001b[0;34m,\u001b[0m \u001b[0;34m'r'\u001b[0m\u001b[0;34m)\u001b[0m\u001b[0;34m\u001b[0m\u001b[0;34m\u001b[0m\u001b[0m\n\u001b[0m\u001b[1;32m      8\u001b[0m \u001b[0mlines\u001b[0m \u001b[0;34m=\u001b[0m \u001b[0mmy_file\u001b[0m\u001b[0;34m.\u001b[0m\u001b[0mreadlines\u001b[0m\u001b[0;34m(\u001b[0m\u001b[0;34m)\u001b[0m\u001b[0;34m\u001b[0m\u001b[0;34m\u001b[0m\u001b[0m\n\u001b[1;32m      9\u001b[0m \u001b[0mprint\u001b[0m\u001b[0;34m(\u001b[0m\u001b[0mlines\u001b[0m\u001b[0;34m)\u001b[0m\u001b[0;34m\u001b[0m\u001b[0;34m\u001b[0m\u001b[0m\n",
      "\u001b[0;31mFileNotFoundError\u001b[0m: [Errno 2] No such file or directory: '--ip=127.0.0.1'"
     ]
    }
   ],
   "source": [
    "import sys\n",
    "\n",
    "\n",
    "out_filename = \" \"\n",
    "\n",
    "input_filename = sys.argv[1]\n",
    "my_file = open(input_filename, 'r')\n",
    "lines = my_file.readlines()\n",
    "print(lines)\n"
   ]
  },
  {
   "cell_type": "code",
   "execution_count": 168,
   "metadata": {},
   "outputs": [],
   "source": [
    "img = None"
   ]
  },
  {
   "cell_type": "code",
   "execution_count": 169,
   "metadata": {},
   "outputs": [],
   "source": [
    "# array of keywords\n",
    "keywords = [\"png\", \"position\", \"color\", \"drawPixels\"]"
   ]
  },
  {
   "cell_type": "code",
   "execution_count": 170,
   "metadata": {},
   "outputs": [],
   "source": [
    "for line in lines:\n",
    "    words = line.split()\n",
    "    if words[0] not in keywords:\n",
    "        continue\n",
    "    elif words[0] == \"png\":\n",
    "        width = int(words[1])\n",
    "        height = int(words[2])\n",
    "        out_filename = words[3]\n",
    "        img = Image.new(mode = \"RGBA\", size = (int(width), int(height)), color=(0, 0, 0, 0))\n",
    "        pixels = img.load()\n",
    "    elif words[0] == \"position\":\n",
    "        positions = words[2::]\n",
    "        x_coordinates = positions[::2]\n",
    "        y_coordinates = positions[1::2]\n",
    "    elif words[0] == \"color\":\n",
    "        colors = words[2::]\n",
    "        red = colors[::4]\n",
    "        green = colors[1::4]\n",
    "        blue = colors[2::4]\n",
    "        alpha = colors[3::4]\n",
    "    elif words[0] == \"drawPixels\":\n",
    "        num_pixels = int(words[1])\n",
    "        for i in range(num_pixels-1, -1, -1):\n",
    "            x = int(x_coordinates[i])\n",
    "            y = int(y_coordinates[i])\n",
    "            r = int(red[i])\n",
    "            g = int(green[i])\n",
    "            b = int(blue[i])\n",
    "            a = int(alpha[i])\n",
    "            pixels[x, y] = (r,g,b,a)\n",
    "img.save(out_filename)         \n",
    "        \n"
   ]
  },
  {
   "cell_type": "markdown",
   "metadata": {},
   "source": []
  }
 ],
 "metadata": {
  "kernelspec": {
   "display_name": "base",
   "language": "python",
   "name": "python3"
  },
  "language_info": {
   "codemirror_mode": {
    "name": "ipython",
    "version": 3
   },
   "file_extension": ".py",
   "mimetype": "text/x-python",
   "name": "python",
   "nbconvert_exporter": "python",
   "pygments_lexer": "ipython3",
   "version": "3.8.5"
  },
  "orig_nbformat": 4
 },
 "nbformat": 4,
 "nbformat_minor": 2
}
